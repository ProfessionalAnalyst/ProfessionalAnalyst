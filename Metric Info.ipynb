{
 "cells": [
  {
   "cell_type": "markdown",
   "id": "0cf73c4c",
   "metadata": {},
   "source": [
    "# Know Your Metrics"
   ]
  },
  {
   "cell_type": "markdown",
   "id": "bc3c3f05",
   "metadata": {},
   "source": [
    "## Setting Directries"
   ]
  },
  {
   "cell_type": "code",
   "execution_count": null,
   "id": "3dbd9a78",
   "metadata": {},
   "outputs": [],
   "source": [
    "import os\n",
    "os.getcwd()\n",
    "os.chdir('C:\\\\Users\\\\santh\\\\Desktop\\\\Project')\n",
    "os.getcwd()"
   ]
  },
  {
   "cell_type": "markdown",
   "id": "1c600f42",
   "metadata": {},
   "source": [
    "## Required Packages"
   ]
  },
  {
   "cell_type": "code",
   "execution_count": null,
   "id": "aac51bc5",
   "metadata": {},
   "outputs": [],
   "source": [
    "import pandas as pd\n",
    "from datetime import datetime, timedelta\n",
    "import matplotlib.pyplot as plt"
   ]
  },
  {
   "cell_type": "markdown",
   "id": "a0e29407",
   "metadata": {},
   "source": [
    "##  Loading Data"
   ]
  },
  {
   "cell_type": "code",
   "execution_count": null,
   "id": "a26dd0f3",
   "metadata": {},
   "outputs": [],
   "source": [
    "tx_data=pd.read_csv('Sales_Data1.csv')\n",
    "tx_data.head(8)"
   ]
  },
  {
   "cell_type": "markdown",
   "id": "f78720c5",
   "metadata": {},
   "source": [
    "## Monthly Revenue And Its Plot"
   ]
  },
  {
   "cell_type": "code",
   "execution_count": null,
   "id": "889003d4",
   "metadata": {},
   "outputs": [],
   "source": [
    "tx_data['InvoiceDate'] = pd.to_datetime(tx_data['InvoiceDate'])\n",
    "\n",
    "tx_data['InvoiceYearMonth'] = tx_data['InvoiceDate'].map(lambda date: 100*date.year + date.month)\n",
    "\n",
    "tx_data['Revenue'] = tx_data['Price'] * tx_data['Quantity']\n",
    "tx_revenue = tx_data.groupby(['InvoiceYearMonth'])['Revenue'].sum().reset_index()\n",
    "tx_revenue"
   ]
  },
  {
   "cell_type": "code",
   "execution_count": null,
   "id": "4ea10182",
   "metadata": {},
   "outputs": [],
   "source": [
    "import plotly as py\n",
    "import plotly.offline as pyoff\n",
    "import plotly.graph_objs as go\n",
    "\n",
    "plot_data = [\n",
    "    go.Scatter(\n",
    "        x=tx_revenue['InvoiceYearMonth'],\n",
    "        y=tx_revenue['Revenue'],\n",
    "    )\n",
    "]\n",
    "plot_layout = go.Layout(\n",
    "        xaxis={\"type\": \"category\"},\n",
    "        title='Montly Revenue'\n",
    "    )\n",
    "fig = go.Figure(data=plot_data, layout=plot_layout)\n",
    "pyoff.iplot(fig)"
   ]
  },
  {
   "cell_type": "markdown",
   "id": "09ad53c0",
   "metadata": {},
   "source": [
    "## Monthly Revenue Growth Rate And Its Plot"
   ]
  },
  {
   "cell_type": "code",
   "execution_count": null,
   "id": "f33c40ab",
   "metadata": {},
   "outputs": [],
   "source": [
    "tx_revenue['MonthlyGrowth'] = tx_revenue['Revenue'].pct_change()\n",
    "tx_revenue.head()"
   ]
  },
  {
   "cell_type": "code",
   "execution_count": null,
   "id": "6e86ae3c",
   "metadata": {},
   "outputs": [],
   "source": [
    "plot_data = [\n",
    "    go.Scatter(\n",
    "        x=tx_revenue.query(\"InvoiceYearMonth < 201112\")['InvoiceYearMonth'],\n",
    "        y=tx_revenue.query(\"InvoiceYearMonth < 201112\")['MonthlyGrowth'],\n",
    "    )\n",
    "]\n",
    "\n",
    "plot_layout = go.Layout(\n",
    "        xaxis={\"type\": \"category\"},\n",
    "        title='Montly Growth Rate'\n",
    "    )\n",
    "\n",
    "fig = go.Figure(data=plot_data, layout=plot_layout)\n",
    "pyoff.iplot(fig)"
   ]
  },
  {
   "cell_type": "markdown",
   "id": "a6a898d6",
   "metadata": {},
   "source": [
    "## Monthly Active Customers And Its Plot"
   ]
  },
  {
   "cell_type": "code",
   "execution_count": null,
   "id": "8a89bf64",
   "metadata": {},
   "outputs": [],
   "source": [
    "tx_uk = tx_data.query(\"Country=='United Kingdom'\").reset_index(drop=True)\n",
    "tx_monthly_active = tx_uk.groupby('InvoiceYearMonth')['Customer ID'].nunique().reset_index()\n",
    "tx_monthly_active.head(8)"
   ]
  },
  {
   "cell_type": "code",
   "execution_count": null,
   "id": "308493e1",
   "metadata": {},
   "outputs": [],
   "source": [
    "plot_data = [\n",
    "    go.Bar(\n",
    "        x=tx_monthly_active['InvoiceYearMonth'],\n",
    "        y=tx_monthly_active['Customer ID'],\n",
    "    )\n",
    "]\n",
    "\n",
    "plot_layout = go.Layout(\n",
    "        xaxis={\"type\": \"category\"},\n",
    "        title='Monthly Active Customers'\n",
    "    )\n",
    "\n",
    "fig = go.Figure(data=plot_data, layout=plot_layout)\n",
    "pyoff.iplot(fig)"
   ]
  },
  {
   "cell_type": "markdown",
   "id": "26906c0f",
   "metadata": {},
   "source": [
    "## Monthly Order Count And Its Plot"
   ]
  },
  {
   "cell_type": "code",
   "execution_count": null,
   "id": "ce16a5ca",
   "metadata": {},
   "outputs": [],
   "source": [
    "tx_monthly_sales = tx_uk.groupby('InvoiceYearMonth')['Quantity'].sum().reset_index()\n",
    "tx_monthly_sales.head(10)"
   ]
  },
  {
   "cell_type": "code",
   "execution_count": null,
   "id": "1cd776c3",
   "metadata": {},
   "outputs": [],
   "source": [
    "plot_data = [\n",
    "    go.Bar(\n",
    "        x=tx_monthly_sales['InvoiceYearMonth'],\n",
    "        y=tx_monthly_sales['Quantity'],\n",
    "    )\n",
    "]\n",
    "\n",
    "plot_layout = go.Layout(\n",
    "        xaxis={\"type\": \"category\"},\n",
    "        title='Monthly Total # of Order'\n",
    "    )\n",
    "\n",
    "fig = go.Figure(data=plot_data, layout=plot_layout)\n",
    "pyoff.iplot(fig)"
   ]
  },
  {
   "cell_type": "markdown",
   "id": "26fbd94b",
   "metadata": {},
   "source": [
    "## Average Revenue per Order And Its Plot"
   ]
  },
  {
   "cell_type": "code",
   "execution_count": null,
   "id": "ce47a08b",
   "metadata": {},
   "outputs": [],
   "source": [
    "tx_monthly_order_avg = tx_uk.groupby('InvoiceYearMonth')['Revenue'].mean().reset_index()\n",
    "tx_monthly_order_avg.head(10)"
   ]
  },
  {
   "cell_type": "code",
   "execution_count": null,
   "id": "f8974dad",
   "metadata": {},
   "outputs": [],
   "source": [
    "plot_data = [\n",
    "    go.Bar(\n",
    "        x=tx_monthly_order_avg['InvoiceYearMonth'],\n",
    "        y=tx_monthly_order_avg['Revenue'],\n",
    "    )\n",
    "]\n",
    "\n",
    "plot_layout = go.Layout(\n",
    "        xaxis={\"type\": \"category\"},\n",
    "        title='Monthly Order Average'\n",
    "    )\n",
    "fig = go.Figure(data=plot_data, layout=plot_layout)\n",
    "pyoff.iplot(fig)"
   ]
  },
  {
   "cell_type": "markdown",
   "id": "7b627eda",
   "metadata": {},
   "source": [
    "## New Customer Ratio And Its Plot"
   ]
  },
  {
   "cell_type": "code",
   "execution_count": null,
   "id": "4ee9be54",
   "metadata": {},
   "outputs": [],
   "source": [
    "tx_min_purchase = tx_uk.groupby('Customer ID').InvoiceDate.min().reset_index()\n",
    "tx_min_purchase.columns = ['Customer ID','MinPurchaseDate']\n",
    "tx_min_purchase['MinPurchaseYearMonth'] = tx_min_purchase['MinPurchaseDate'].map(lambda date: 100*date.year + date.month)\n",
    "\n",
    "tx_uk = pd.merge(tx_uk, tx_min_purchase, on='Customer ID')\n",
    "tx_uk.head()"
   ]
  },
  {
   "cell_type": "code",
   "execution_count": null,
   "id": "dd0d46ad",
   "metadata": {},
   "outputs": [],
   "source": [
    "tx_uk['UserType'] = 'New'\n",
    "tx_uk.loc[tx_uk['InvoiceYearMonth']>tx_uk['MinPurchaseYearMonth'],'UserType'] = 'Existing'\n",
    "\n",
    "tx_user_type_revenue = tx_uk.groupby(['InvoiceYearMonth','UserType'])['Revenue'].sum().reset_index()\n",
    "tx_user_type_revenue = tx_user_type_revenue.query(\"InvoiceYearMonth != 200912 and InvoiceYearMonth != 201112\")\n",
    "plot_data = [\n",
    "    go.Scatter(\n",
    "        x=tx_user_type_revenue.query(\"UserType == 'Existing'\")['InvoiceYearMonth'],\n",
    "        y=tx_user_type_revenue.query(\"UserType == 'Existing'\")['Revenue'],\n",
    "        name = 'Existing'\n",
    "    ),\n",
    "    go.Scatter(\n",
    "        x=tx_user_type_revenue.query(\"UserType == 'New'\")['InvoiceYearMonth'],\n",
    "        y=tx_user_type_revenue.query(\"UserType == 'New'\")['Revenue'],\n",
    "        name = 'New'\n",
    "    )\n",
    "]\n",
    "\n",
    "plot_layout = go.Layout(\n",
    "        xaxis={\"type\": \"category\"},\n",
    "        title='New vs Existing'\n",
    "    )\n",
    "fig = go.Figure(data=plot_data, layout=plot_layout)\n",
    "pyoff.iplot(fig)"
   ]
  },
  {
   "cell_type": "markdown",
   "id": "b30306f9",
   "metadata": {},
   "source": [
    "## Revenue per month for New and Existing Customers"
   ]
  },
  {
   "cell_type": "code",
   "execution_count": null,
   "id": "0774c1d3",
   "metadata": {},
   "outputs": [],
   "source": [
    "tx_user_type_revenue.query(\"InvoiceYearMonth != 200912 and InvoiceYearMonth != 201112\").head()"
   ]
  },
  {
   "cell_type": "markdown",
   "id": "3699653b",
   "metadata": {},
   "source": [
    "## Customer ratio"
   ]
  },
  {
   "cell_type": "code",
   "execution_count": null,
   "id": "3d56765d",
   "metadata": {},
   "outputs": [],
   "source": [
    "#create a dataframe that shows new user ratio - we also need to drop NA values (first month new user ratio is 0)\n",
    "tx_user_ratio = tx_uk.query(\"UserType == 'New'\").groupby(['InvoiceYearMonth'])['Customer ID'].nunique()/tx_uk.query(\"UserType == 'Existing'\").groupby(['InvoiceYearMonth'])['Customer ID'].nunique() \n",
    "tx_user_ratio = tx_user_ratio.reset_index()\n",
    "tx_user_ratio = tx_user_ratio.dropna()\n",
    "\n",
    "#print the dafaframe\n",
    "tx_user_ratio\n",
    "\n",
    "#plot the result\n",
    "\n",
    "plot_data = [\n",
    "    go.Bar(\n",
    "        x=tx_user_ratio.query(\"InvoiceYearMonth>201101 and InvoiceYearMonth<201112\")['InvoiceYearMonth'],\n",
    "        y=tx_user_ratio.query(\"InvoiceYearMonth>201101 and InvoiceYearMonth<201112\")['Customer ID'],\n",
    "    )\n",
    "]\n",
    "\n",
    "plot_layout = go.Layout(\n",
    "        xaxis={\"type\": \"category\"},\n",
    "        title='New Customer Ratio'\n",
    "    )\n",
    "fig = go.Figure(data=plot_data, layout=plot_layout)\n",
    "pyoff.iplot(fig)"
   ]
  },
  {
   "cell_type": "markdown",
   "id": "3a0f7640",
   "metadata": {},
   "source": [
    "## Monthly Retention Rate"
   ]
  },
  {
   "cell_type": "code",
   "execution_count": null,
   "id": "d8302101",
   "metadata": {},
   "outputs": [],
   "source": [
    "#identify which users are active by looking at their revenue per month\n",
    "tx_user_purchase = tx_uk.groupby(['Customer ID','InvoiceYearMonth'])['Revenue'].sum().reset_index()\n",
    "\n",
    "#create retention matrix with crosstab\n",
    "tx_retention = pd.crosstab(tx_user_purchase['Customer ID'], tx_user_purchase['InvoiceYearMonth']).reset_index()\n",
    "\n",
    "tx_retention.head()\n",
    "\n",
    "#create an array of dictionary which keeps Retained & Total User count for each month\n",
    "months = tx_retention.columns[2:]\n",
    "retention_array = []\n",
    "for i in range(len(months)-1):\n",
    "    retention_data = {}\n",
    "    selected_month = months[i+1]\n",
    "    prev_month = months[i]\n",
    "    retention_data['InvoiceYearMonth'] = int(selected_month)\n",
    "    retention_data['TotalUserCount'] = tx_retention[selected_month].sum()\n",
    "    retention_data['RetainedUserCount'] = tx_retention[(tx_retention[selected_month]>0) & (tx_retention[prev_month]>0)][selected_month].sum()\n",
    "    retention_array.append(retention_data)\n",
    "    \n",
    "#convert the array to dataframe and calculate Retention Rate\n",
    "tx_retention = pd.DataFrame(retention_array)\n",
    "tx_retention['RetentionRate'] = tx_retention['RetainedUserCount']/tx_retention['TotalUserCount']\n",
    "\n",
    "#plot the retention rate graph\n",
    "plot_data = [\n",
    "    go.Scatter(\n",
    "        x=tx_retention.query(\"InvoiceYearMonth<201112\")['InvoiceYearMonth'],\n",
    "        y=tx_retention.query(\"InvoiceYearMonth<201112\")['RetentionRate'],\n",
    "        name=\"organic\"\n",
    "    )\n",
    "    \n",
    "]\n",
    "\n",
    "plot_layout = go.Layout(\n",
    "        xaxis={\"type\": \"category\"},\n",
    "        title='Monthly Retention Rate'\n",
    "    )\n",
    "fig = go.Figure(data=plot_data, layout=plot_layout)\n",
    "pyoff.iplot(fig)"
   ]
  },
  {
   "cell_type": "code",
   "execution_count": null,
   "id": "2c8e2d94",
   "metadata": {},
   "outputs": [],
   "source": [
    "tx_retention = pd.DataFrame(retention_array)\n",
    "tx_retention['RetentionRate'] = tx_retention['RetainedUserCount']/tx_retention['TotalUserCount']\n",
    "tx_retention.head(6)"
   ]
  },
  {
   "cell_type": "markdown",
   "id": "8197b6be",
   "metadata": {},
   "source": [
    "## Cohort Based Retention Rate"
   ]
  },
  {
   "cell_type": "code",
   "execution_count": null,
   "id": "7117e27b",
   "metadata": {},
   "outputs": [],
   "source": [
    "import numpy as np\n",
    "#create our retention table again with crosstab() and add firs purchase year month view\n",
    "tx_retention = pd.crosstab(tx_user_purchase['Customer ID'], tx_user_purchase['InvoiceYearMonth']).reset_index()\n",
    "tx_retention = pd.merge(tx_retention,tx_min_purchase[['Customer ID','MinPurchaseYearMonth']],on='Customer ID')\n",
    "new_column_names = [ 'm_' + str(column) for column in tx_retention.columns[:-1]]\n",
    "new_column_names.append('MinPurchaseYearMonth')\n",
    "tx_retention.columns = new_column_names\n",
    "\n",
    "#create the array of Retained users for each cohort monthly\n",
    "retention_array = []\n",
    "for i in range(len(months)):\n",
    "    retention_data = {}\n",
    "    selected_month = months[i]\n",
    "    prev_months = months[:i]\n",
    "    next_months = months[i+1:]\n",
    "    for prev_month in prev_months:\n",
    "        retention_data[prev_month] = np.nan\n",
    "        \n",
    "    total_user_count = tx_retention[tx_retention.MinPurchaseYearMonth ==  selected_month].MinPurchaseYearMonth.count()\n",
    "    retention_data['TotalUserCount'] = total_user_count\n",
    "    retention_data[selected_month] = 1 \n",
    "    \n",
    "    query = \"MinPurchaseYearMonth == {}\".format(selected_month)\n",
    "    \n",
    "\n",
    "    for next_month in next_months:\n",
    "        new_query = query + \" and {} > 0\".format(str('m_' + str(next_month)))\n",
    "        retention_data[next_month] = np.round(tx_retention.query(new_query)['m_' + str(next_month)].sum()/total_user_count,2)\n",
    "    retention_array.append(retention_data)\n",
    "    \n",
    "tx_retention = pd.DataFrame(retention_array)\n",
    "tx_retention.index = months\n",
    "\n",
    "#showing new cohort based retention table\n",
    "tx_retention.head()"
   ]
  },
  {
   "cell_type": "code",
   "execution_count": null,
   "id": "4f49ca1d",
   "metadata": {},
   "outputs": [],
   "source": [
    "tx_data.describe().transpose()"
   ]
  },
  {
   "cell_type": "code",
   "execution_count": null,
   "id": "021db5c3",
   "metadata": {},
   "outputs": [],
   "source": [
    "n_orders = tx_data.groupby(['Customer ID'])['Invoice'].nunique()\n",
    "mult_orders_perc = np.sum(n_orders > 1) / tx_data['Customer ID'].nunique()\n",
    "print(f'{100 * mult_orders_perc:.2f}% of customers ordered more than once.')"
   ]
  },
  {
   "cell_type": "code",
   "execution_count": null,
   "id": "d2d90473",
   "metadata": {},
   "outputs": [],
   "source": [
    "import seaborn as sns\n",
    "plt.xlim(0,100)\n",
    "ax = sns.distplot(n_orders, kde=False, hist=True)\n",
    "ax.set(title='Distribution of number of orders per customer',\n",
    "       xlabel='# of orders', \n",
    "       ylabel='# of customers');"
   ]
  },
  {
   "cell_type": "markdown",
   "id": "e1dbb3c1",
   "metadata": {},
   "source": [
    "## Cohart Analysis"
   ]
  },
  {
   "cell_type": "code",
   "execution_count": null,
   "id": "ba27af82",
   "metadata": {},
   "outputs": [],
   "source": [
    "df = tx_data[['Customer ID', 'Invoice', 'InvoiceDate']].drop_duplicates()\n",
    "df.head()"
   ]
  },
  {
   "cell_type": "code",
   "execution_count": null,
   "id": "ec8ba6b7",
   "metadata": {},
   "outputs": [],
   "source": [
    "df['order_month'] = df['InvoiceDate'].dt.to_period('M')\n",
    "df['cohort'] = df.groupby('Customer ID')['InvoiceDate'] \\\n",
    "                 .transform('min') \\\n",
    "                 .dt.to_period('M') "
   ]
  },
  {
   "cell_type": "code",
   "execution_count": null,
   "id": "eb7d23c8",
   "metadata": {},
   "outputs": [],
   "source": [
    "from operator import attrgetter\n",
    "df_cohort = df.groupby(['cohort', 'order_month']) \\\n",
    "              .agg(n_customers=('Customer ID', 'nunique')) \\\n",
    "              .reset_index(drop=False)\n",
    "df_cohort['period_number'] = (df_cohort.order_month - df_cohort.cohort).apply(attrgetter('n'))\n"
   ]
  },
  {
   "cell_type": "code",
   "execution_count": null,
   "id": "738e52d9",
   "metadata": {},
   "outputs": [],
   "source": [
    "cohort_pivot = df_cohort.pivot_table(index = 'cohort',\n",
    "                                     columns = 'period_number',\n",
    "                                     values = 'n_customers')"
   ]
  },
  {
   "cell_type": "code",
   "execution_count": null,
   "id": "97783aec",
   "metadata": {},
   "outputs": [],
   "source": [
    "cohort_size = cohort_pivot.iloc[:,0]\n",
    "retention_matrix = cohort_pivot.divide(cohort_size, axis = 0)\n",
    "retention_matrix"
   ]
  },
  {
   "cell_type": "code",
   "execution_count": null,
   "id": "25e31105",
   "metadata": {},
   "outputs": [],
   "source": [
    "import matplotlib.colors as mcolors\n",
    "with sns.axes_style(\"white\"):\n",
    "    fig, ax = plt.subplots(1, 2, figsize=(12, 8), sharey=True, gridspec_kw={'width_ratios': [1, 11]})\n",
    "    \n",
    "    # retention matrix\n",
    "    sns.heatmap(retention_matrix, \n",
    "                mask=retention_matrix.isnull(), \n",
    "                annot=True, \n",
    "                fmt='.0%', \n",
    "                cmap='RdYlGn', \n",
    "                ax=ax[1])\n",
    "    ax[1].set_title('Monthly Cohorts: User Retention', fontsize=16)\n",
    "    ax[1].set(xlabel='# of periods',\n",
    "              ylabel='')\n",
    "\n",
    "    # cohort size\n",
    "    cohort_size_df = pd.DataFrame(cohort_size).rename(columns={0: 'cohort_size'})\n",
    "    white_cmap = mcolors.ListedColormap(['white'])\n",
    "    sns.heatmap(cohort_size_df, \n",
    "                annot=True, \n",
    "                cbar=False, \n",
    "                fmt='g', \n",
    "                cmap=white_cmap, \n",
    "                ax=ax[0])\n",
    "\n",
    "    fig.tight_layout()"
   ]
  }
 ],
 "metadata": {
  "kernelspec": {
   "display_name": "Python 3",
   "language": "python",
   "name": "python3"
  },
  "language_info": {
   "codemirror_mode": {
    "name": "ipython",
    "version": 3
   },
   "file_extension": ".py",
   "mimetype": "text/x-python",
   "name": "python",
   "nbconvert_exporter": "python",
   "pygments_lexer": "ipython3",
   "version": "3.8.8"
  }
 },
 "nbformat": 4,
 "nbformat_minor": 5
}
